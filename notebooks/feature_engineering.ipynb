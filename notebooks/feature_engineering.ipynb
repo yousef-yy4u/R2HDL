{
 "cells": [
  {
   "cell_type": "code",
   "execution_count": 9,
   "id": "803364c9",
   "metadata": {
    "scrolled": true,
    "vscode": {
     "languageId": "plaintext"
    }
   },
   "outputs": [],
   "source": [
    "import pandas as pd\n",
    "import ta\n",
    "\n",
    "df = pd.read_csv('../data/raw/AAPL.csv', parse_dates=['Date'])\n",
    "df.set_index('Date', inplace=True)\n",
    "\n",
    "# Convert strings to numbers\n",
    "for col in ['Open', 'High', 'Low', 'Close', 'Volume']:\n",
    "    df[col] = pd.to_numeric(df[col], errors='coerce')\n",
    "\n",
    "# Drop any invalid rows\n",
    "df.dropna(inplace=True)\n",
    "\n",
    "# Add indicators\n",
    "df['rsi'] = ta.momentum.RSIIndicator(close=df['Close']).rsi()\n",
    "df['macd'] = ta.trend.MACD(close=df['Close']).macd()\n",
    "df['sma_50'] = ta.trend.SMAIndicator(close=df['Close'], window=50).sma_indicator()"
   ]
  },
  {
   "cell_type": "code",
   "execution_count": 10,
   "id": "f05284be",
   "metadata": {
    "vscode": {
     "languageId": "plaintext"
    }
   },
   "outputs": [],
   "source": [
    "# Create binary target: 1 if next day's close > today's\n",
    "df['target'] = (df['Close'].shift(-1) > df['Close']).astype(int)"
   ]
  },
  {
   "cell_type": "code",
   "execution_count": 11,
   "id": "3c1d0dbe",
   "metadata": {
    "vscode": {
     "languageId": "plaintext"
    }
   },
   "outputs": [
    {
     "data": {
      "text/html": [
       "<div>\n",
       "<style scoped>\n",
       "    .dataframe tbody tr th:only-of-type {\n",
       "        vertical-align: middle;\n",
       "    }\n",
       "\n",
       "    .dataframe tbody tr th {\n",
       "        vertical-align: top;\n",
       "    }\n",
       "\n",
       "    .dataframe thead th {\n",
       "        text-align: right;\n",
       "    }\n",
       "</style>\n",
       "<table border=\"1\" class=\"dataframe\">\n",
       "  <thead>\n",
       "    <tr style=\"text-align: right;\">\n",
       "      <th></th>\n",
       "      <th>Close</th>\n",
       "      <th>High</th>\n",
       "      <th>Low</th>\n",
       "      <th>Open</th>\n",
       "      <th>Volume</th>\n",
       "      <th>rsi</th>\n",
       "      <th>macd</th>\n",
       "      <th>sma_50</th>\n",
       "      <th>target</th>\n",
       "    </tr>\n",
       "    <tr>\n",
       "      <th>Date</th>\n",
       "      <th></th>\n",
       "      <th></th>\n",
       "      <th></th>\n",
       "      <th></th>\n",
       "      <th></th>\n",
       "      <th></th>\n",
       "      <th></th>\n",
       "      <th></th>\n",
       "      <th></th>\n",
       "    </tr>\n",
       "  </thead>\n",
       "  <tbody>\n",
       "    <tr>\n",
       "      <th>2020-03-13</th>\n",
       "      <td>67.369156</td>\n",
       "      <td>67.841763</td>\n",
       "      <td>61.305276</td>\n",
       "      <td>64.199074</td>\n",
       "      <td>370732000.0</td>\n",
       "      <td>45.241607</td>\n",
       "      <td>-2.653155</td>\n",
       "      <td>74.025905</td>\n",
       "      <td>0</td>\n",
       "    </tr>\n",
       "    <tr>\n",
       "      <th>2020-03-16</th>\n",
       "      <td>58.702309</td>\n",
       "      <td>62.790937</td>\n",
       "      <td>58.166689</td>\n",
       "      <td>58.639292</td>\n",
       "      <td>322423600.0</td>\n",
       "      <td>36.847025</td>\n",
       "      <td>-3.215640</td>\n",
       "      <td>73.747535</td>\n",
       "      <td>1</td>\n",
       "    </tr>\n",
       "    <tr>\n",
       "      <th>2020-03-17</th>\n",
       "      <td>61.283455</td>\n",
       "      <td>62.434667</td>\n",
       "      <td>57.778910</td>\n",
       "      <td>59.986821</td>\n",
       "      <td>324056000.0</td>\n",
       "      <td>40.394224</td>\n",
       "      <td>-3.413784</td>\n",
       "      <td>73.534907</td>\n",
       "      <td>0</td>\n",
       "    </tr>\n",
       "    <tr>\n",
       "      <th>2020-03-18</th>\n",
       "      <td>59.783241</td>\n",
       "      <td>60.590305</td>\n",
       "      <td>57.468691</td>\n",
       "      <td>58.110950</td>\n",
       "      <td>300233600.0</td>\n",
       "      <td>39.022301</td>\n",
       "      <td>-3.649797</td>\n",
       "      <td>73.280815</td>\n",
       "      <td>0</td>\n",
       "    </tr>\n",
       "    <tr>\n",
       "      <th>2020-03-19</th>\n",
       "      <td>59.325184</td>\n",
       "      <td>61.278615</td>\n",
       "      <td>58.799260</td>\n",
       "      <td>59.957747</td>\n",
       "      <td>271857200.0</td>\n",
       "      <td>38.591326</td>\n",
       "      <td>-3.829655</td>\n",
       "      <td>73.024380</td>\n",
       "      <td>0</td>\n",
       "    </tr>\n",
       "  </tbody>\n",
       "</table>\n",
       "</div>"
      ],
      "text/plain": [
       "                Close       High        Low       Open       Volume  \\\n",
       "Date                                                                  \n",
       "2020-03-13  67.369156  67.841763  61.305276  64.199074  370732000.0   \n",
       "2020-03-16  58.702309  62.790937  58.166689  58.639292  322423600.0   \n",
       "2020-03-17  61.283455  62.434667  57.778910  59.986821  324056000.0   \n",
       "2020-03-18  59.783241  60.590305  57.468691  58.110950  300233600.0   \n",
       "2020-03-19  59.325184  61.278615  58.799260  59.957747  271857200.0   \n",
       "\n",
       "                  rsi      macd     sma_50  target  \n",
       "Date                                                \n",
       "2020-03-13  45.241607 -2.653155  74.025905       0  \n",
       "2020-03-16  36.847025 -3.215640  73.747535       1  \n",
       "2020-03-17  40.394224 -3.413784  73.534907       0  \n",
       "2020-03-18  39.022301 -3.649797  73.280815       0  \n",
       "2020-03-19  38.591326 -3.829655  73.024380       0  "
      ]
     },
     "execution_count": 11,
     "metadata": {},
     "output_type": "execute_result"
    }
   ],
   "source": [
    "# Clean and save\n",
    "df = df.dropna()\n",
    "df.to_csv('../data/processed/AAPL_features.csv')\n",
    "df.head()"
   ]
  },
  {
   "cell_type": "code",
   "execution_count": null,
   "id": "893d4c08-5dce-4100-9b13-e24b52f1b539",
   "metadata": {},
   "outputs": [],
   "source": []
  }
 ],
 "metadata": {
  "kernelspec": {
   "display_name": "Python 3 (ipykernel)",
   "language": "python",
   "name": "python3"
  },
  "language_info": {
   "codemirror_mode": {
    "name": "ipython",
    "version": 3
   },
   "file_extension": ".py",
   "mimetype": "text/x-python",
   "name": "python",
   "nbconvert_exporter": "python",
   "pygments_lexer": "ipython3",
   "version": "3.13.3"
  }
 },
 "nbformat": 4,
 "nbformat_minor": 5
}
